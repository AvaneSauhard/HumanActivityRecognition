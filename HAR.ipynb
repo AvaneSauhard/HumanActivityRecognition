{
  "nbformat": 4,
  "nbformat_minor": 0,
  "metadata": {
    "colab": {
      "name": "HAR.ipynb",
      "provenance": [],
      "collapsed_sections": [],
      "authorship_tag": "ABX9TyPHtyTM6zla0BBViOKc4NHn",
      "include_colab_link": true
    },
    "kernelspec": {
      "name": "python3",
      "display_name": "Python 3"
    },
    "language_info": {
      "name": "python"
    }
  },
  "cells": [
    {
      "cell_type": "markdown",
      "metadata": {
        "id": "view-in-github",
        "colab_type": "text"
      },
      "source": [
        "<a href=\"https://colab.research.google.com/github/AvaneSauhard/HumanActivityRecognition/blob/main/HAR.ipynb\" target=\"_parent\"><img src=\"https://colab.research.google.com/assets/colab-badge.svg\" alt=\"Open In Colab\"/></a>"
      ]
    },
    {
      "cell_type": "code",
      "execution_count": 2,
      "metadata": {
        "id": "MBL_Fb8Hd4n2"
      },
      "outputs": [],
      "source": [
        "#importing libraries\n",
        "from google.colab import drive\n",
        "import numpy as np\n",
        "import pandas as pd\n",
        "import tensorflow as tf\n",
        "import seaborn as sns\n",
        "import matplotlib.pyplot as plt\n",
        "import keras\n",
        "from tensorflow.keras.utils import to_categorical\n",
        "from sklearn.utils import resample\n",
        "import itertools\n",
        "from sklearn.metrics import classification_report, confusion_matrix\n",
        "from keras.layers import Input "
      ]
    },
    {
      "cell_type": "code",
      "source": [
        "from google.colab import drive\n",
        "drive.mount('/content/drive/')"
      ],
      "metadata": {
        "id": "ptA-9Mu9efNu",
        "colab": {
          "base_uri": "https://localhost:8080/"
        },
        "outputId": "5ce34ec3-bb79-4a31-d34f-48a99c0b9672"
      },
      "execution_count": 3,
      "outputs": [
        {
          "output_type": "stream",
          "name": "stdout",
          "text": [
            "Mounted at /content/drive/\n"
          ]
        }
      ]
    },
    {
      "cell_type": "code",
      "source": [
        "def load_file(filepath):\n",
        "  data=pd.read_csv(filepath,header=None,delim_whitespace=True)\n",
        "  return data.values"
      ],
      "metadata": {
        "id": "oVx-JJCvgWCU"
      },
      "execution_count": 4,
      "outputs": []
    },
    {
      "cell_type": "code",
      "source": [
        "def load_group(filenames,filepaths):\n",
        "  load=list()\n",
        "  for name in filenames:\n",
        "    data=load_file(filepaths+name)\n",
        "    load.append(data)\n",
        "  load=np.dstack(load)\n",
        "  return load\n"
      ],
      "metadata": {
        "id": "mUGTnpuJglt_"
      },
      "execution_count": 5,
      "outputs": []
    },
    {
      "cell_type": "code",
      "source": [
        "filepath_train=\"drive/MyDrive/UCI HAR Dataset/train/Inertial Signals/\"\n",
        "filename_train=list()\n",
        "filename_train+=['total_acc_x_train.txt','total_acc_y_train.txt','total_acc_z_train.txt']\n",
        "filename_train+=['body_acc_x_train.txt','body_acc_y_train.txt','body_acc_z_train.txt']\n",
        "filename_train+=['body_gyro_x_train.txt','body_gyro_y_train.txt','body_gyro_z_train.txt']\n",
        "train_X=load_group(filename_train,filepath_train)\n",
        "train_Y=load_file(\"drive/MyDrive/UCI HAR Dataset/train/y_train.txt\")"
      ],
      "metadata": {
        "id": "7cBwDs8Mjad8"
      },
      "execution_count": 6,
      "outputs": []
    },
    {
      "cell_type": "code",
      "source": [
        "print(train_X.shape,train_Y.shape)"
      ],
      "metadata": {
        "colab": {
          "base_uri": "https://localhost:8080/"
        },
        "id": "q89769Qjn1ua",
        "outputId": "b64b11ee-0e1e-4524-a02a-58ea0eceeeca"
      },
      "execution_count": 7,
      "outputs": [
        {
          "output_type": "stream",
          "name": "stdout",
          "text": [
            "(7352, 128, 9) (7352, 1)\n"
          ]
        }
      ]
    },
    {
      "cell_type": "code",
      "source": [
        "filepath_test=\"drive/MyDrive/UCI HAR Dataset/test/Inertial Signals/\"\n",
        "filename_test=list()\n",
        "filename_test+=['total_acc_x_test.txt','total_acc_y_test.txt','total_acc_z_test.txt']\n",
        "filename_test+=['body_acc_x_test.txt','body_acc_y_test.txt','body_acc_z_test.txt']\n",
        "filename_test+=['body_gyro_x_test.txt','body_gyro_y_test.txt','body_gyro_z_test.txt']\n",
        "test_X=load_group(filename_test,filepath_test)\n",
        "test_Y=load_file(\"drive/MyDrive/UCI HAR Dataset/test/y_test.txt\")"
      ],
      "metadata": {
        "id": "QY0mVOu3oVbJ"
      },
      "execution_count": 8,
      "outputs": []
    },
    {
      "cell_type": "code",
      "source": [
        "print(test_X.shape,test_Y.shape)"
      ],
      "metadata": {
        "colab": {
          "base_uri": "https://localhost:8080/"
        },
        "id": "A5xmvirgpVjf",
        "outputId": "888c4952-254d-4316-878e-a937ef9f93a8"
      },
      "execution_count": 9,
      "outputs": [
        {
          "output_type": "stream",
          "name": "stdout",
          "text": [
            "(2947, 128, 9) (2947, 1)\n"
          ]
        }
      ]
    },
    {
      "cell_type": "code",
      "source": [
        "train_Y=train_Y-1\n",
        "test_Y=test_Y-1"
      ],
      "metadata": {
        "id": "BMpoMeYwp-OI"
      },
      "execution_count": 10,
      "outputs": []
    },
    {
      "cell_type": "code",
      "source": [
        "train_Y=to_categorical(train_Y)\n",
        "test_Y=to_categorical(test_Y)"
      ],
      "metadata": {
        "id": "ngjYnal0qYeJ"
      },
      "execution_count": 11,
      "outputs": []
    },
    {
      "cell_type": "code",
      "source": [
        "print(train_X.shape,train_Y.shape,test_X.shape,test_Y.shape)"
      ],
      "metadata": {
        "colab": {
          "base_uri": "https://localhost:8080/"
        },
        "id": "9CovyJ3yqNnT",
        "outputId": "e4210fa0-573b-4000-bd91-40788bc1a244"
      },
      "execution_count": 12,
      "outputs": [
        {
          "output_type": "stream",
          "name": "stdout",
          "text": [
            "(7352, 128, 9) (7352, 6) (2947, 128, 9) (2947, 6)\n"
          ]
        }
      ]
    },
    {
      "cell_type": "code",
      "source": [
        "from keras.layers import Dropout\n",
        "from keras.layers import Flatten\n",
        "from keras.layers.convolutional import Conv1D\n",
        "from keras.layers.convolutional import MaxPooling1D\n",
        "from keras.layers.merge import concatenate\n",
        "from keras.layers import Dense\n",
        "from keras.models import Model\n",
        "def build_model():\n",
        "  \n",
        "  timestamps, features, output=train_X.shape[1],train_X.shape[2],train_Y.shape[1]\n",
        "  #head1\n",
        "  inputs1= Input(shape=(timestamps,features))\n",
        "  conv1 = Conv1D(filters=64,kernel_size=3,activation='relu')(inputs1)\n",
        "  drop1 = Dropout(0.5)(conv1)\n",
        "  pool1 = MaxPooling1D(pool_size=2)(drop1)\n",
        "  flat1 = Flatten()(pool1)\n",
        "  #head2\n",
        "  inputs2= Input(shape=(timestamps,features))\n",
        "  conv2 = Conv1D(filters=64,kernel_size=5,activation='relu')(inputs2)\n",
        "  drop2 = Dropout(0.5)(conv2)\n",
        "  pool2 = MaxPooling1D(pool_size=2)(drop2)\n",
        "  flat2 = Flatten()(pool2)\n",
        "  #head3\n",
        "  inputs3= Input(shape=(timestamps,features))\n",
        "  conv3 = Conv1D(filters=64,kernel_size=11,activation='relu')(inputs3)\n",
        "  drop3 = Dropout(0.5)(conv3)\n",
        "  pool3 = MaxPooling1D(pool_size=2)(drop3)\n",
        "  flat3 = Flatten()(pool3)\n",
        "  merged = concatenate([flat1,flat2,flat3])\n",
        "  dense = Dense(100,activation='relu')(merged)\n",
        "  output = Dense(train_Y.shape[1],activation='softmax')(dense)\n",
        "\n",
        "  model = Model(inputs=[inputs1,inputs2,inputs3],outputs=output)\n",
        "  model.compile(loss='categorical_crossentropy',optimizer='adam',metrics=['accuracy'])\n",
        "  model.summary()\n",
        "  model.fit([train_X,train_X,train_X],train_Y,epochs=8,batch_size=64)\n",
        "  return model\n",
        "  "
      ],
      "metadata": {
        "id": "GlvCugkIqp7O"
      },
      "execution_count": 33,
      "outputs": []
    },
    {
      "cell_type": "code",
      "source": [
        "model = build_model()"
      ],
      "metadata": {
        "colab": {
          "base_uri": "https://localhost:8080/"
        },
        "id": "W3wlVaIpvTPz",
        "outputId": "72dbf487-7b6c-4795-9327-aa7126effb30"
      },
      "execution_count": 34,
      "outputs": [
        {
          "output_type": "stream",
          "name": "stdout",
          "text": [
            "Model: \"model_12\"\n",
            "__________________________________________________________________________________________________\n",
            " Layer (type)                   Output Shape         Param #     Connected to                     \n",
            "==================================================================================================\n",
            " input_38 (InputLayer)          [(None, 128, 9)]     0           []                               \n",
            "                                                                                                  \n",
            " input_39 (InputLayer)          [(None, 128, 9)]     0           []                               \n",
            "                                                                                                  \n",
            " input_40 (InputLayer)          [(None, 128, 9)]     0           []                               \n",
            "                                                                                                  \n",
            " conv1d_36 (Conv1D)             (None, 126, 64)      1792        ['input_38[0][0]']               \n",
            "                                                                                                  \n",
            " conv1d_37 (Conv1D)             (None, 124, 64)      2944        ['input_39[0][0]']               \n",
            "                                                                                                  \n",
            " conv1d_38 (Conv1D)             (None, 118, 64)      6400        ['input_40[0][0]']               \n",
            "                                                                                                  \n",
            " dropout_36 (Dropout)           (None, 126, 64)      0           ['conv1d_36[0][0]']              \n",
            "                                                                                                  \n",
            " dropout_37 (Dropout)           (None, 124, 64)      0           ['conv1d_37[0][0]']              \n",
            "                                                                                                  \n",
            " dropout_38 (Dropout)           (None, 118, 64)      0           ['conv1d_38[0][0]']              \n",
            "                                                                                                  \n",
            " max_pooling1d_36 (MaxPooling1D  (None, 63, 64)      0           ['dropout_36[0][0]']             \n",
            " )                                                                                                \n",
            "                                                                                                  \n",
            " max_pooling1d_37 (MaxPooling1D  (None, 62, 64)      0           ['dropout_37[0][0]']             \n",
            " )                                                                                                \n",
            "                                                                                                  \n",
            " max_pooling1d_38 (MaxPooling1D  (None, 59, 64)      0           ['dropout_38[0][0]']             \n",
            " )                                                                                                \n",
            "                                                                                                  \n",
            " flatten_36 (Flatten)           (None, 4032)         0           ['max_pooling1d_36[0][0]']       \n",
            "                                                                                                  \n",
            " flatten_37 (Flatten)           (None, 3968)         0           ['max_pooling1d_37[0][0]']       \n",
            "                                                                                                  \n",
            " flatten_38 (Flatten)           (None, 3776)         0           ['max_pooling1d_38[0][0]']       \n",
            "                                                                                                  \n",
            " concatenate_12 (Concatenate)   (None, 11776)        0           ['flatten_36[0][0]',             \n",
            "                                                                  'flatten_37[0][0]',             \n",
            "                                                                  'flatten_38[0][0]']             \n",
            "                                                                                                  \n",
            " dense_24 (Dense)               (None, 100)          1177700     ['concatenate_12[0][0]']         \n",
            "                                                                                                  \n",
            " dense_25 (Dense)               (None, 6)            606         ['dense_24[0][0]']               \n",
            "                                                                                                  \n",
            "==================================================================================================\n",
            "Total params: 1,189,442\n",
            "Trainable params: 1,189,442\n",
            "Non-trainable params: 0\n",
            "__________________________________________________________________________________________________\n",
            "Epoch 1/8\n",
            "115/115 [==============================] - 8s 64ms/step - loss: 0.3768 - accuracy: 0.8523\n",
            "Epoch 2/8\n",
            "115/115 [==============================] - 7s 64ms/step - loss: 0.1323 - accuracy: 0.9475\n",
            "Epoch 3/8\n",
            "115/115 [==============================] - 7s 64ms/step - loss: 0.1101 - accuracy: 0.9547\n",
            "Epoch 4/8\n",
            "115/115 [==============================] - 7s 64ms/step - loss: 0.1006 - accuracy: 0.9562\n",
            "Epoch 5/8\n",
            "115/115 [==============================] - 7s 64ms/step - loss: 0.0957 - accuracy: 0.9578\n",
            "Epoch 6/8\n",
            "115/115 [==============================] - 7s 65ms/step - loss: 0.0891 - accuracy: 0.9610\n",
            "Epoch 7/8\n",
            "115/115 [==============================] - 7s 64ms/step - loss: 0.0838 - accuracy: 0.9629\n",
            "Epoch 8/8\n",
            "115/115 [==============================] - 8s 69ms/step - loss: 0.0923 - accuracy: 0.9612\n"
          ]
        }
      ]
    },
    {
      "cell_type": "code",
      "source": [
        "model.evaluate([test_X,test_X,test_X],test_Y, batch_size = 64, verbose =0)"
      ],
      "metadata": {
        "colab": {
          "base_uri": "https://localhost:8080/"
        },
        "id": "w0bKE6xFOBxu",
        "outputId": "39e609a6-abf2-4b19-da20-bf61cfb78038"
      },
      "execution_count": 35,
      "outputs": [
        {
          "output_type": "execute_result",
          "data": {
            "text/plain": [
              "[0.2860216498374939, 0.9243298172950745]"
            ]
          },
          "metadata": {},
          "execution_count": 35
        }
      ]
    }
  ]
}
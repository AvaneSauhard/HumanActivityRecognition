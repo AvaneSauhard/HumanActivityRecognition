{
  "nbformat": 4,
  "nbformat_minor": 0,
  "metadata": {
    "colab": {
      "name": "HAR.ipynb",
      "provenance": [],
      "collapsed_sections": [],
      "authorship_tag": "ABX9TyMf+BUINoAPssMZG0lqioDE",
      "include_colab_link": true
    },
    "kernelspec": {
      "name": "python3",
      "display_name": "Python 3"
    },
    "language_info": {
      "name": "python"
    }
  },
  "cells": [
    {
      "cell_type": "markdown",
      "metadata": {
        "id": "view-in-github",
        "colab_type": "text"
      },
      "source": [
        "<a href=\"https://colab.research.google.com/github/AvaneSauhard/HumanActivityRecognition/blob/main/HAR.ipynb\" target=\"_parent\"><img src=\"https://colab.research.google.com/assets/colab-badge.svg\" alt=\"Open In Colab\"/></a>"
      ]
    },
    {
      "cell_type": "code",
      "execution_count": null,
      "metadata": {
        "id": "MBL_Fb8Hd4n2"
      },
      "outputs": [],
      "source": [
        "#importing libraries\n",
        "from google.colab import drive\n",
        "import numpy as np\n",
        "import pandas as pd\n",
        "import tensorflow as tf\n",
        "import seaborn as sns\n",
        "import matplotlib.pyplot as plt\n",
        "import keras\n",
        "from tensorflow.keras.utils import to_categorical\n",
        "from sklearn.utils import resample\n",
        "import itertools\n",
        "from sklearn.metrics import classification_report, confusion_matrix"
      ]
    },
    {
      "cell_type": "code",
      "source": [
        "from google.colab import drive\n",
        "drive.mount('/content/drive/')"
      ],
      "metadata": {
        "id": "ptA-9Mu9efNu",
        "colab": {
          "base_uri": "https://localhost:8080/"
        },
        "outputId": "046da412-c5e6-4360-cddd-8f6fe9d86fae"
      },
      "execution_count": null,
      "outputs": [
        {
          "output_type": "stream",
          "name": "stdout",
          "text": [
            "Drive already mounted at /content/drive/; to attempt to forcibly remount, call drive.mount(\"/content/drive/\", force_remount=True).\n"
          ]
        }
      ]
    },
    {
      "cell_type": "code",
      "source": [
        "def load_file(filepath):\n",
        "  data=pd.read_csv(filepath,header=None,delim_whitespace=True)\n",
        "  return data.values"
      ],
      "metadata": {
        "id": "oVx-JJCvgWCU"
      },
      "execution_count": null,
      "outputs": []
    },
    {
      "cell_type": "code",
      "source": [
        "def load_group(filenames,filepaths):\n",
        "  load=list()\n",
        "  for name in filenames:\n",
        "    data=load_file(filepaths+name)\n",
        "    load.append(data)\n",
        "  load=np.dstack(load)\n",
        "  return load\n"
      ],
      "metadata": {
        "id": "mUGTnpuJglt_"
      },
      "execution_count": null,
      "outputs": []
    },
    {
      "cell_type": "code",
      "source": [
        "filepath_train=\"drive/MyDrive/UCI HAR Dataset/train/Inertial Signals/\"\n",
        "filename_train=list()\n",
        "filename_train+=['total_acc_x_train.txt','total_acc_y_train.txt','total_acc_z_train.txt']\n",
        "filename_train+=['body_acc_x_train.txt','body_acc_y_train.txt','body_acc_z_train.txt']\n",
        "filename_train+=['body_gyro_x_train.txt','body_gyro_y_train.txt','body_gyro_z_train.txt']\n",
        "train_X=load_group(filename_train,filepath_train)\n",
        "train_Y=load_file(\"drive/MyDrive/UCI HAR Dataset/train/y_train.txt\")"
      ],
      "metadata": {
        "id": "7cBwDs8Mjad8"
      },
      "execution_count": null,
      "outputs": []
    },
    {
      "cell_type": "code",
      "source": [
        "print(train_X.shape,train_Y.shape)"
      ],
      "metadata": {
        "colab": {
          "base_uri": "https://localhost:8080/"
        },
        "id": "q89769Qjn1ua",
        "outputId": "79dd88e1-b4a1-43c7-8380-504062d182b7"
      },
      "execution_count": null,
      "outputs": [
        {
          "output_type": "stream",
          "name": "stdout",
          "text": [
            "(7352, 128, 9) (7352, 1)\n"
          ]
        }
      ]
    },
    {
      "cell_type": "code",
      "source": [
        "filepath_test=\"drive/MyDrive/UCI HAR Dataset/test/Inertial Signals/\"\n",
        "filename_test=list()\n",
        "filename_test+=['total_acc_x_test.txt','total_acc_y_test.txt','total_acc_z_test.txt']\n",
        "filename_test+=['body_acc_x_test.txt','body_acc_y_test.txt','body_acc_z_test.txt']\n",
        "filename_test+=['body_gyro_x_test.txt','body_gyro_y_test.txt','body_gyro_z_test.txt']\n",
        "test_X=load_group(filename_test,filepath_test)\n",
        "test_Y=load_file(\"drive/MyDrive/UCI HAR Dataset/test/y_test.txt\")"
      ],
      "metadata": {
        "id": "QY0mVOu3oVbJ"
      },
      "execution_count": null,
      "outputs": []
    },
    {
      "cell_type": "code",
      "source": [
        "print(test_X.shape,test_Y.shape)"
      ],
      "metadata": {
        "colab": {
          "base_uri": "https://localhost:8080/"
        },
        "id": "A5xmvirgpVjf",
        "outputId": "caa683a4-7532-4a44-e75a-dab4a0678904"
      },
      "execution_count": null,
      "outputs": [
        {
          "output_type": "stream",
          "name": "stdout",
          "text": [
            "(2947, 128, 9) (2947, 1)\n"
          ]
        }
      ]
    },
    {
      "cell_type": "code",
      "source": [
        "train_Y=train_Y-1\n",
        "test_Y=test_Y-1"
      ],
      "metadata": {
        "id": "BMpoMeYwp-OI"
      },
      "execution_count": null,
      "outputs": []
    },
    {
      "cell_type": "code",
      "source": [
        "train_Y=to_categorical(train_Y)\n",
        "test_Y=to_categorical(test_Y)"
      ],
      "metadata": {
        "id": "ngjYnal0qYeJ"
      },
      "execution_count": null,
      "outputs": []
    },
    {
      "cell_type": "code",
      "source": [
        "print(train_X.shape,train_Y.shape,test_X.shape,test_Y.shape)"
      ],
      "metadata": {
        "colab": {
          "base_uri": "https://localhost:8080/"
        },
        "id": "9CovyJ3yqNnT",
        "outputId": "29441e34-99d1-47d5-cb6f-1a945f822a5e"
      },
      "execution_count": null,
      "outputs": [
        {
          "output_type": "stream",
          "name": "stdout",
          "text": [
            "(7352, 128, 9) (7352, 6) (2947, 128, 9) (2947, 6)\n"
          ]
        }
      ]
    },
    {
      "cell_type": "code",
      "source": [
        "from sklearn.preprocessing import StandardScaler"
      ],
      "metadata": {
        "id": "afmkiBRKG2Dd"
      },
      "execution_count": null,
      "outputs": []
    },
    {
      "cell_type": "code",
      "source": [
        "def scale_data(standardize):\n",
        "  cut= int(train_X.shape[1]/2)\n",
        "  longX=train_X[:,-cut:,:]\n",
        "  longX=longX.reshape((longX.shape[0]*longX.shape[1],longX.shape[2]))\n",
        "  std_train_X= train_X.reshape((train_X.shape[0]*train_X.shape[1],train_X.shape[2]))\n",
        "  std_test_X= test_X.reshape((test_X.shape[0]*test_X.shape[1],test_X.shape[2]))\n",
        "  if standardize:\n",
        "    s = StandardScaler()\n",
        "    s.fit(longX)\n",
        "    longX = s.transform(longX)\n",
        "    std_train_X = s.transform(std_train_X)\n",
        "    std_test_X = s.transform(std_test_X)\n",
        "  std_train_X = std_train_X.reshape((train_X.shape))\n",
        "  std_test_X = std_test_X.reshape((test_X.shape))\n",
        "  return std_train_X,std_test_X\n",
        "\n",
        "\n",
        "\n"
      ],
      "metadata": {
        "id": "H5vEL4r_FTAN"
      },
      "execution_count": null,
      "outputs": []
    },
    {
      "cell_type": "code",
      "source": [
        "def build_model(params):\n",
        "  #train_X,test_X= scale_data(params)\n",
        "  timestamps, features, output=train_X.shape[1],train_X.shape[2],train_Y.shape[1]\n",
        "  #head1\n",
        "  inputs1= input(shape=(timestamps,features))\n",
        "  conv1 = Conv1D(filters=64,kernel_size=3,activation='relu')(inputs1)\n",
        "  drop1 = Dropout(0.5)(conv1)\n",
        "  pool1 = MaxPooling1D(pool_size=2)(drop1)\n",
        "  flat1 = Flatten()(pool1)\n",
        "  #head2\n",
        "  inputs2= input(shape=(timestamps,features))\n",
        "  conv2 = Conv1D(filters=64,kernel_size=5,activation='relu')(inputs2)\n",
        "  drop2 = Dropout(0.5)(conv2)\n",
        "  pool2 = MaxPooling1D(pool_size=2)(drop2)\n",
        "  flat2 = Flatten()(pool2)\n",
        "  #head3\n",
        "  inputs3= input(shape=(timestamps,features))\n",
        "  conv3 = Conv1D(filters=64,kernel_size=11,activation='relu')(inputs3)\n",
        "  drop3 = Dropout(0.5)(conv3)\n",
        "  pool3 = MaxPooling1D(pool_size=2)(drop3)\n",
        "  flat3 = Flatten()(pool3)\n",
        "  merged = concatenate([flat1,flat2,flat3])\n",
        "  dense = Dense(100,activation='relu')(merged)\n",
        "  output = Dense(train_Y.shape[1],activation='softmax')(dense)\n",
        "\n",
        "  model = Model(inputs=[inputs1,inputs2,inputs3],outputs=output)\n",
        "  model.compile(loss='categorical_crossentropy',optimizer='adam',metrics=['accuracy'])\n",
        "  model.fit([train_X,train_X,train_X],train_Y,epochs=8,batch_size=64)\n",
        "  accuracy=model.evaluate([test_X,test_X,test_X],test_Y,batch_size=64)\n",
        "  return accuracy"
      ],
      "metadata": {
        "id": "GlvCugkIqp7O"
      },
      "execution_count": null,
      "outputs": []
    },
    {
      "cell_type": "code",
      "source": [
        "n_params=[2,3,5,7,11]\n",
        "for p in n_params:\n",
        "  scores=list()\n",
        "  score=build_model(p)\n",
        "  score = score*100\n",
        "  scores.append(score)\n",
        "for i in range(len(scores)):\n",
        "  print(scores)"
      ],
      "metadata": {
        "colab": {
          "base_uri": "https://localhost:8080/",
          "height": 369
        },
        "id": "w0bKE6xFOBxu",
        "outputId": "fb3015bd-3d6a-460b-fb21-64eaab510016"
      },
      "execution_count": null,
      "outputs": [
        {
          "output_type": "error",
          "ename": "TypeError",
          "evalue": "ignored",
          "traceback": [
            "\u001b[0;31m---------------------------------------------------------------------------\u001b[0m",
            "\u001b[0;31mTypeError\u001b[0m                                 Traceback (most recent call last)",
            "\u001b[0;32m<ipython-input-36-a4d617048f7b>\u001b[0m in \u001b[0;36m<module>\u001b[0;34m()\u001b[0m\n\u001b[1;32m      2\u001b[0m \u001b[0;32mfor\u001b[0m \u001b[0mp\u001b[0m \u001b[0;32min\u001b[0m \u001b[0mn_params\u001b[0m\u001b[0;34m:\u001b[0m\u001b[0;34m\u001b[0m\u001b[0;34m\u001b[0m\u001b[0m\n\u001b[1;32m      3\u001b[0m   \u001b[0mscores\u001b[0m\u001b[0;34m=\u001b[0m\u001b[0mlist\u001b[0m\u001b[0;34m(\u001b[0m\u001b[0;34m)\u001b[0m\u001b[0;34m\u001b[0m\u001b[0;34m\u001b[0m\u001b[0m\n\u001b[0;32m----> 4\u001b[0;31m   \u001b[0mscore\u001b[0m\u001b[0;34m=\u001b[0m\u001b[0mbuild_model\u001b[0m\u001b[0;34m(\u001b[0m\u001b[0mp\u001b[0m\u001b[0;34m)\u001b[0m\u001b[0;34m\u001b[0m\u001b[0;34m\u001b[0m\u001b[0m\n\u001b[0m\u001b[1;32m      5\u001b[0m   \u001b[0mscore\u001b[0m \u001b[0;34m=\u001b[0m \u001b[0mscore\u001b[0m\u001b[0;34m*\u001b[0m\u001b[0;36m100\u001b[0m\u001b[0;34m\u001b[0m\u001b[0;34m\u001b[0m\u001b[0m\n\u001b[1;32m      6\u001b[0m   \u001b[0mscores\u001b[0m\u001b[0;34m.\u001b[0m\u001b[0mappend\u001b[0m\u001b[0;34m(\u001b[0m\u001b[0mscore\u001b[0m\u001b[0;34m)\u001b[0m\u001b[0;34m\u001b[0m\u001b[0;34m\u001b[0m\u001b[0m\n",
            "\u001b[0;32m<ipython-input-35-3a313d0cf85e>\u001b[0m in \u001b[0;36mbuild_model\u001b[0;34m(params)\u001b[0m\n\u001b[1;32m      3\u001b[0m   \u001b[0mtimestamps\u001b[0m\u001b[0;34m,\u001b[0m \u001b[0mfeatures\u001b[0m\u001b[0;34m,\u001b[0m \u001b[0moutput\u001b[0m\u001b[0;34m=\u001b[0m\u001b[0mtrain_X\u001b[0m\u001b[0;34m.\u001b[0m\u001b[0mshape\u001b[0m\u001b[0;34m[\u001b[0m\u001b[0;36m1\u001b[0m\u001b[0;34m]\u001b[0m\u001b[0;34m,\u001b[0m\u001b[0mtrain_X\u001b[0m\u001b[0;34m.\u001b[0m\u001b[0mshape\u001b[0m\u001b[0;34m[\u001b[0m\u001b[0;36m2\u001b[0m\u001b[0;34m]\u001b[0m\u001b[0;34m,\u001b[0m\u001b[0mtrain_Y\u001b[0m\u001b[0;34m.\u001b[0m\u001b[0mshape\u001b[0m\u001b[0;34m[\u001b[0m\u001b[0;36m1\u001b[0m\u001b[0;34m]\u001b[0m\u001b[0;34m\u001b[0m\u001b[0;34m\u001b[0m\u001b[0m\n\u001b[1;32m      4\u001b[0m   \u001b[0;31m#head1\u001b[0m\u001b[0;34m\u001b[0m\u001b[0;34m\u001b[0m\u001b[0;34m\u001b[0m\u001b[0m\n\u001b[0;32m----> 5\u001b[0;31m   \u001b[0minputs1\u001b[0m\u001b[0;34m=\u001b[0m \u001b[0minput\u001b[0m\u001b[0;34m(\u001b[0m\u001b[0mshape\u001b[0m\u001b[0;34m=\u001b[0m\u001b[0;34m(\u001b[0m\u001b[0mtimestamps\u001b[0m\u001b[0;34m,\u001b[0m\u001b[0mfeatures\u001b[0m\u001b[0;34m)\u001b[0m\u001b[0;34m)\u001b[0m\u001b[0;34m\u001b[0m\u001b[0;34m\u001b[0m\u001b[0m\n\u001b[0m\u001b[1;32m      6\u001b[0m   \u001b[0mconv1\u001b[0m \u001b[0;34m=\u001b[0m \u001b[0mConv1D\u001b[0m\u001b[0;34m(\u001b[0m\u001b[0mfilters\u001b[0m\u001b[0;34m=\u001b[0m\u001b[0;36m64\u001b[0m\u001b[0;34m,\u001b[0m\u001b[0mkernel_size\u001b[0m\u001b[0;34m=\u001b[0m\u001b[0;36m3\u001b[0m\u001b[0;34m,\u001b[0m\u001b[0mactivation\u001b[0m\u001b[0;34m=\u001b[0m\u001b[0;34m'relu'\u001b[0m\u001b[0;34m)\u001b[0m\u001b[0;34m(\u001b[0m\u001b[0minputs1\u001b[0m\u001b[0;34m)\u001b[0m\u001b[0;34m\u001b[0m\u001b[0;34m\u001b[0m\u001b[0m\n\u001b[1;32m      7\u001b[0m   \u001b[0mdrop1\u001b[0m \u001b[0;34m=\u001b[0m \u001b[0mDropout\u001b[0m\u001b[0;34m(\u001b[0m\u001b[0;36m0.5\u001b[0m\u001b[0;34m)\u001b[0m\u001b[0;34m(\u001b[0m\u001b[0mconv1\u001b[0m\u001b[0;34m)\u001b[0m\u001b[0;34m\u001b[0m\u001b[0;34m\u001b[0m\u001b[0m\n",
            "\u001b[0;31mTypeError\u001b[0m: raw_input() got an unexpected keyword argument 'shape'"
          ]
        }
      ]
    }
  ]
}